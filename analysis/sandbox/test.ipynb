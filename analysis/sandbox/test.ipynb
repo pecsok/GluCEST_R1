{
 "cells": [
  {
   "cell_type": "code",
   "execution_count": null,
   "id": "e59e5dc0",
   "metadata": {},
   "outputs": [],
   "source": [
    "\n"
   ]
  },
  {
   "cell_type": "markdown",
   "id": "33d2bb29",
   "metadata": {},
   "source": [
    "## Testing out VScode git configuration.\n"
   ]
  },
  {
   "cell_type": "markdown",
   "id": "814137c3",
   "metadata": {},
   "source": []
  }
 ],
 "metadata": {
  "language_info": {
   "name": "python"
  }
 },
 "nbformat": 4,
 "nbformat_minor": 5
}
